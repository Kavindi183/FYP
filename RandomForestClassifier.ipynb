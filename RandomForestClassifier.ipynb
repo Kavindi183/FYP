{
 "cells": [
  {
   "cell_type": "code",
   "execution_count": 1,
   "metadata": {},
   "outputs": [],
   "source": [
    "import pandas as pd\n",
    "import csv"
   ]
  },
  {
   "cell_type": "code",
   "execution_count": 2,
   "metadata": {},
   "outputs": [],
   "source": [
    "from sklearn.feature_extraction.text import CountVectorizer\n",
    "from sklearn.feature_extraction.text import TfidfTransformer"
   ]
  },
  {
   "cell_type": "code",
   "execution_count": 3,
   "metadata": {},
   "outputs": [],
   "source": [
    "df = pd.read_csv('Test_new.csv')"
   ]
  },
  {
   "cell_type": "code",
   "execution_count": 4,
   "metadata": {},
   "outputs": [],
   "source": [
    "X = df['Article_content']\n",
    "Y = df['type']"
   ]
  },
  {
   "cell_type": "code",
   "execution_count": 5,
   "metadata": {},
   "outputs": [],
   "source": [
    "X = X.fillna(\"\")"
   ]
  },
  {
   "cell_type": "code",
   "execution_count": 7,
   "metadata": {},
   "outputs": [],
   "source": [
    "from sklearn import preprocessing\n",
    "le = preprocessing.LabelEncoder()\n",
    "Y = le.fit_transform(Y.astype(str))\n"
   ]
  },
  {
   "cell_type": "code",
   "execution_count": 8,
   "metadata": {},
   "outputs": [],
   "source": [
    "from sklearn.model_selection import cross_val_score"
   ]
  },
  {
   "cell_type": "code",
   "execution_count": 9,
   "metadata": {},
   "outputs": [],
   "source": [
    "from sklearn.pipeline import Pipeline"
   ]
  },
  {
   "cell_type": "code",
   "execution_count": 10,
   "metadata": {},
   "outputs": [],
   "source": [
    "from sklearn.ensemble import RandomForestClassifier"
   ]
  },
  {
   "cell_type": "code",
   "execution_count": 11,
   "metadata": {},
   "outputs": [],
   "source": [
    "text_clf_RandomForest = Pipeline([('vect', CountVectorizer()), ('tfidf', TfidfTransformer()), ('clf',  RandomForestClassifier(n_jobs=-1))])"
   ]
  },
  {
   "cell_type": "code",
   "execution_count": 12,
   "metadata": {},
   "outputs": [],
   "source": [
    "scores = cross_val_score(text_clf_RandomForest, X, Y, cv=10, scoring='accuracy')"
   ]
  },
  {
   "cell_type": "code",
   "execution_count": 14,
   "metadata": {},
   "outputs": [
    {
     "data": {
      "text/plain": [
       "0.8796031002216571"
      ]
     },
     "execution_count": 14,
     "metadata": {},
     "output_type": "execute_result"
    }
   ],
   "source": [
    "scores.mean()"
   ]
  },
  {
   "cell_type": "code",
   "execution_count": 52,
   "metadata": {},
   "outputs": [],
   "source": [
    "from sklearn.model_selection import GridSearchCV\n",
    "param_grid = {'vect__ngram_range': [(1, 1), (1, 2)], 'tfidf__use_idf': (True, False), 'clf__n_estimators': (10,100,200)}"
   ]
  },
  {
   "cell_type": "code",
   "execution_count": 53,
   "metadata": {},
   "outputs": [
    {
     "data": {
      "text/plain": [
       "GridSearchCV(cv=10, error_score='raise',\n",
       "       estimator=Pipeline(memory=None,\n",
       "     steps=[('vect', CountVectorizer(analyzer='word', binary=False, decode_error='strict',\n",
       "        dtype=<class 'numpy.int64'>, encoding='utf-8', input='content',\n",
       "        lowercase=True, max_df=1.0, max_features=None, min_df=1,\n",
       "        ngram_range=(1, 1), preprocessor=None, stop_words=None,\n",
       "        strip...n_jobs=1,\n",
       "            oob_score=False, random_state=None, verbose=0,\n",
       "            warm_start=False))]),\n",
       "       fit_params=None, iid=True, n_jobs=1,\n",
       "       param_grid={'vect__ngram_range': [(1, 1), (1, 2)], 'tfidf__use_idf': (True, False), 'clf__n_estimators': (10, 100, 200)},\n",
       "       pre_dispatch='2*n_jobs', refit=True, return_train_score=False,\n",
       "       scoring='accuracy', verbose=0)"
      ]
     },
     "execution_count": 53,
     "metadata": {},
     "output_type": "execute_result"
    }
   ],
   "source": [
    "grid = GridSearchCV(text_clf_RandomForest, param_grid, cv=10, scoring='accuracy', return_train_score=False)\n",
    "grid.fit(X, Y)"
   ]
  },
  {
   "cell_type": "code",
   "execution_count": 54,
   "metadata": {},
   "outputs": [
    {
     "data": {
      "text/html": [
       "<div>\n",
       "<style scoped>\n",
       "    .dataframe tbody tr th:only-of-type {\n",
       "        vertical-align: middle;\n",
       "    }\n",
       "\n",
       "    .dataframe tbody tr th {\n",
       "        vertical-align: top;\n",
       "    }\n",
       "\n",
       "    .dataframe thead th {\n",
       "        text-align: right;\n",
       "    }\n",
       "</style>\n",
       "<table border=\"1\" class=\"dataframe\">\n",
       "  <thead>\n",
       "    <tr style=\"text-align: right;\">\n",
       "      <th></th>\n",
       "      <th>mean_test_score</th>\n",
       "      <th>std_test_score</th>\n",
       "      <th>params</th>\n",
       "    </tr>\n",
       "  </thead>\n",
       "  <tbody>\n",
       "    <tr>\n",
       "      <th>0</th>\n",
       "      <td>0.888889</td>\n",
       "      <td>0.053863</td>\n",
       "      <td>{'clf__n_estimators': 10, 'tfidf__use_idf': Tr...</td>\n",
       "    </tr>\n",
       "    <tr>\n",
       "      <th>1</th>\n",
       "      <td>0.872579</td>\n",
       "      <td>0.059405</td>\n",
       "      <td>{'clf__n_estimators': 10, 'tfidf__use_idf': Tr...</td>\n",
       "    </tr>\n",
       "    <tr>\n",
       "      <th>2</th>\n",
       "      <td>0.904179</td>\n",
       "      <td>0.043332</td>\n",
       "      <td>{'clf__n_estimators': 10, 'tfidf__use_idf': Fa...</td>\n",
       "    </tr>\n",
       "    <tr>\n",
       "      <th>3</th>\n",
       "      <td>0.879715</td>\n",
       "      <td>0.058026</td>\n",
       "      <td>{'clf__n_estimators': 10, 'tfidf__use_idf': Fa...</td>\n",
       "    </tr>\n",
       "    <tr>\n",
       "      <th>4</th>\n",
       "      <td>0.926606</td>\n",
       "      <td>0.044938</td>\n",
       "      <td>{'clf__n_estimators': 100, 'tfidf__use_idf': T...</td>\n",
       "    </tr>\n",
       "    <tr>\n",
       "      <th>5</th>\n",
       "      <td>0.893986</td>\n",
       "      <td>0.059960</td>\n",
       "      <td>{'clf__n_estimators': 100, 'tfidf__use_idf': T...</td>\n",
       "    </tr>\n",
       "    <tr>\n",
       "      <th>6</th>\n",
       "      <td>0.926606</td>\n",
       "      <td>0.052532</td>\n",
       "      <td>{'clf__n_estimators': 100, 'tfidf__use_idf': F...</td>\n",
       "    </tr>\n",
       "    <tr>\n",
       "      <th>7</th>\n",
       "      <td>0.890928</td>\n",
       "      <td>0.059757</td>\n",
       "      <td>{'clf__n_estimators': 100, 'tfidf__use_idf': F...</td>\n",
       "    </tr>\n",
       "    <tr>\n",
       "      <th>8</th>\n",
       "      <td>0.928644</td>\n",
       "      <td>0.035756</td>\n",
       "      <td>{'clf__n_estimators': 200, 'tfidf__use_idf': T...</td>\n",
       "    </tr>\n",
       "    <tr>\n",
       "      <th>9</th>\n",
       "      <td>0.888889</td>\n",
       "      <td>0.052599</td>\n",
       "      <td>{'clf__n_estimators': 200, 'tfidf__use_idf': T...</td>\n",
       "    </tr>\n",
       "    <tr>\n",
       "      <th>10</th>\n",
       "      <td>0.931702</td>\n",
       "      <td>0.035146</td>\n",
       "      <td>{'clf__n_estimators': 200, 'tfidf__use_idf': F...</td>\n",
       "    </tr>\n",
       "    <tr>\n",
       "      <th>11</th>\n",
       "      <td>0.886850</td>\n",
       "      <td>0.057466</td>\n",
       "      <td>{'clf__n_estimators': 200, 'tfidf__use_idf': F...</td>\n",
       "    </tr>\n",
       "  </tbody>\n",
       "</table>\n",
       "</div>"
      ],
      "text/plain": [
       "    mean_test_score  std_test_score  \\\n",
       "0          0.888889        0.053863   \n",
       "1          0.872579        0.059405   \n",
       "2          0.904179        0.043332   \n",
       "3          0.879715        0.058026   \n",
       "4          0.926606        0.044938   \n",
       "5          0.893986        0.059960   \n",
       "6          0.926606        0.052532   \n",
       "7          0.890928        0.059757   \n",
       "8          0.928644        0.035756   \n",
       "9          0.888889        0.052599   \n",
       "10         0.931702        0.035146   \n",
       "11         0.886850        0.057466   \n",
       "\n",
       "                                               params  \n",
       "0   {'clf__n_estimators': 10, 'tfidf__use_idf': Tr...  \n",
       "1   {'clf__n_estimators': 10, 'tfidf__use_idf': Tr...  \n",
       "2   {'clf__n_estimators': 10, 'tfidf__use_idf': Fa...  \n",
       "3   {'clf__n_estimators': 10, 'tfidf__use_idf': Fa...  \n",
       "4   {'clf__n_estimators': 100, 'tfidf__use_idf': T...  \n",
       "5   {'clf__n_estimators': 100, 'tfidf__use_idf': T...  \n",
       "6   {'clf__n_estimators': 100, 'tfidf__use_idf': F...  \n",
       "7   {'clf__n_estimators': 100, 'tfidf__use_idf': F...  \n",
       "8   {'clf__n_estimators': 200, 'tfidf__use_idf': T...  \n",
       "9   {'clf__n_estimators': 200, 'tfidf__use_idf': T...  \n",
       "10  {'clf__n_estimators': 200, 'tfidf__use_idf': F...  \n",
       "11  {'clf__n_estimators': 200, 'tfidf__use_idf': F...  "
      ]
     },
     "execution_count": 54,
     "metadata": {},
     "output_type": "execute_result"
    }
   ],
   "source": [
    "# view the results\n",
    "pd.DataFrame(grid.cv_results_)[['mean_test_score', 'std_test_score', 'params']]"
   ]
  },
  {
   "cell_type": "code",
   "execution_count": 55,
   "metadata": {},
   "outputs": [
    {
     "name": "stdout",
     "output_type": "stream",
     "text": [
      "0.9317023445463812\n",
      "{'clf__n_estimators': 200, 'tfidf__use_idf': False, 'vect__ngram_range': (1, 1)}\n"
     ]
    }
   ],
   "source": [
    "# examine the best model\n",
    "print(grid.best_score_)\n",
    "print(grid.best_params_)"
   ]
  },
  {
   "cell_type": "code",
   "execution_count": 56,
   "metadata": {},
   "outputs": [],
   "source": [
    "param_grid2 = {'vect__ngram_range': [(1, 1), (1, 2)], 'tfidf__use_idf': (True, False), 'clf__max_features': (None,'auto','log2')}"
   ]
  },
  {
   "cell_type": "code",
   "execution_count": 57,
   "metadata": {
    "collapsed": true
   },
   "outputs": [
    {
     "data": {
      "text/plain": [
       "GridSearchCV(cv=10, error_score='raise',\n",
       "       estimator=Pipeline(memory=None,\n",
       "     steps=[('vect', CountVectorizer(analyzer='word', binary=False, decode_error='strict',\n",
       "        dtype=<class 'numpy.int64'>, encoding='utf-8', input='content',\n",
       "        lowercase=True, max_df=1.0, max_features=None, min_df=1,\n",
       "        ngram_range=(1, 1), preprocessor=None, stop_words=None,\n",
       "        strip...n_jobs=1,\n",
       "            oob_score=False, random_state=None, verbose=0,\n",
       "            warm_start=False))]),\n",
       "       fit_params=None, iid=True, n_jobs=1,\n",
       "       param_grid={'vect__ngram_range': [(1, 1), (1, 2)], 'tfidf__use_idf': (True, False), 'clf__max_features': (None, 'auto', 'log2')},\n",
       "       pre_dispatch='2*n_jobs', refit=True, return_train_score=False,\n",
       "       scoring='accuracy', verbose=0)"
      ]
     },
     "execution_count": 57,
     "metadata": {},
     "output_type": "execute_result"
    }
   ],
   "source": [
    "grid = GridSearchCV(text_clf_RandomForest, param_grid2, cv=10, scoring='accuracy', return_train_score=False)\n",
    "grid.fit(X, Y)"
   ]
  },
  {
   "cell_type": "code",
   "execution_count": 58,
   "metadata": {
    "collapsed": true
   },
   "outputs": [
    {
     "data": {
      "text/html": [
       "<div>\n",
       "<style scoped>\n",
       "    .dataframe tbody tr th:only-of-type {\n",
       "        vertical-align: middle;\n",
       "    }\n",
       "\n",
       "    .dataframe tbody tr th {\n",
       "        vertical-align: top;\n",
       "    }\n",
       "\n",
       "    .dataframe thead th {\n",
       "        text-align: right;\n",
       "    }\n",
       "</style>\n",
       "<table border=\"1\" class=\"dataframe\">\n",
       "  <thead>\n",
       "    <tr style=\"text-align: right;\">\n",
       "      <th></th>\n",
       "      <th>mean_test_score</th>\n",
       "      <th>std_test_score</th>\n",
       "      <th>params</th>\n",
       "    </tr>\n",
       "  </thead>\n",
       "  <tbody>\n",
       "    <tr>\n",
       "      <th>0</th>\n",
       "      <td>0.996942</td>\n",
       "      <td>0.006572</td>\n",
       "      <td>{'clf__max_features': None, 'tfidf__use_idf': ...</td>\n",
       "    </tr>\n",
       "    <tr>\n",
       "      <th>1</th>\n",
       "      <td>0.996942</td>\n",
       "      <td>0.006572</td>\n",
       "      <td>{'clf__max_features': None, 'tfidf__use_idf': ...</td>\n",
       "    </tr>\n",
       "    <tr>\n",
       "      <th>2</th>\n",
       "      <td>0.994903</td>\n",
       "      <td>0.006875</td>\n",
       "      <td>{'clf__max_features': None, 'tfidf__use_idf': ...</td>\n",
       "    </tr>\n",
       "    <tr>\n",
       "      <th>3</th>\n",
       "      <td>0.995923</td>\n",
       "      <td>0.006806</td>\n",
       "      <td>{'clf__max_features': None, 'tfidf__use_idf': ...</td>\n",
       "    </tr>\n",
       "    <tr>\n",
       "      <th>4</th>\n",
       "      <td>0.871560</td>\n",
       "      <td>0.033693</td>\n",
       "      <td>{'clf__max_features': 'auto', 'tfidf__use_idf'...</td>\n",
       "    </tr>\n",
       "    <tr>\n",
       "      <th>5</th>\n",
       "      <td>0.867482</td>\n",
       "      <td>0.080297</td>\n",
       "      <td>{'clf__max_features': 'auto', 'tfidf__use_idf'...</td>\n",
       "    </tr>\n",
       "    <tr>\n",
       "      <th>6</th>\n",
       "      <td>0.887870</td>\n",
       "      <td>0.052790</td>\n",
       "      <td>{'clf__max_features': 'auto', 'tfidf__use_idf'...</td>\n",
       "    </tr>\n",
       "    <tr>\n",
       "      <th>7</th>\n",
       "      <td>0.866463</td>\n",
       "      <td>0.070133</td>\n",
       "      <td>{'clf__max_features': 'auto', 'tfidf__use_idf'...</td>\n",
       "    </tr>\n",
       "    <tr>\n",
       "      <th>8</th>\n",
       "      <td>0.803262</td>\n",
       "      <td>0.057522</td>\n",
       "      <td>{'clf__max_features': 'log2', 'tfidf__use_idf'...</td>\n",
       "    </tr>\n",
       "    <tr>\n",
       "      <th>9</th>\n",
       "      <td>0.807339</td>\n",
       "      <td>0.060621</td>\n",
       "      <td>{'clf__max_features': 'log2', 'tfidf__use_idf'...</td>\n",
       "    </tr>\n",
       "    <tr>\n",
       "      <th>10</th>\n",
       "      <td>0.807339</td>\n",
       "      <td>0.078421</td>\n",
       "      <td>{'clf__max_features': 'log2', 'tfidf__use_idf'...</td>\n",
       "    </tr>\n",
       "    <tr>\n",
       "      <th>11</th>\n",
       "      <td>0.780836</td>\n",
       "      <td>0.072984</td>\n",
       "      <td>{'clf__max_features': 'log2', 'tfidf__use_idf'...</td>\n",
       "    </tr>\n",
       "  </tbody>\n",
       "</table>\n",
       "</div>"
      ],
      "text/plain": [
       "    mean_test_score  std_test_score  \\\n",
       "0          0.996942        0.006572   \n",
       "1          0.996942        0.006572   \n",
       "2          0.994903        0.006875   \n",
       "3          0.995923        0.006806   \n",
       "4          0.871560        0.033693   \n",
       "5          0.867482        0.080297   \n",
       "6          0.887870        0.052790   \n",
       "7          0.866463        0.070133   \n",
       "8          0.803262        0.057522   \n",
       "9          0.807339        0.060621   \n",
       "10         0.807339        0.078421   \n",
       "11         0.780836        0.072984   \n",
       "\n",
       "                                               params  \n",
       "0   {'clf__max_features': None, 'tfidf__use_idf': ...  \n",
       "1   {'clf__max_features': None, 'tfidf__use_idf': ...  \n",
       "2   {'clf__max_features': None, 'tfidf__use_idf': ...  \n",
       "3   {'clf__max_features': None, 'tfidf__use_idf': ...  \n",
       "4   {'clf__max_features': 'auto', 'tfidf__use_idf'...  \n",
       "5   {'clf__max_features': 'auto', 'tfidf__use_idf'...  \n",
       "6   {'clf__max_features': 'auto', 'tfidf__use_idf'...  \n",
       "7   {'clf__max_features': 'auto', 'tfidf__use_idf'...  \n",
       "8   {'clf__max_features': 'log2', 'tfidf__use_idf'...  \n",
       "9   {'clf__max_features': 'log2', 'tfidf__use_idf'...  \n",
       "10  {'clf__max_features': 'log2', 'tfidf__use_idf'...  \n",
       "11  {'clf__max_features': 'log2', 'tfidf__use_idf'...  "
      ]
     },
     "execution_count": 58,
     "metadata": {},
     "output_type": "execute_result"
    }
   ],
   "source": [
    "pd.DataFrame(grid.cv_results_)[['mean_test_score', 'std_test_score', 'params']]"
   ]
  },
  {
   "cell_type": "code",
   "execution_count": 59,
   "metadata": {},
   "outputs": [
    {
     "name": "stdout",
     "output_type": "stream",
     "text": [
      "0.9969418960244648\n",
      "{'clf__max_features': None, 'tfidf__use_idf': True, 'vect__ngram_range': (1, 1)}\n"
     ]
    }
   ],
   "source": [
    "# examine the best model\n",
    "print(grid.best_score_)\n",
    "print(grid.best_params_)"
   ]
  },
  {
   "cell_type": "code",
   "execution_count": 66,
   "metadata": {},
   "outputs": [],
   "source": [
    "param_grid3 = {'vect__ngram_range': [(1, 1), (1, 2)], 'tfidf__use_idf': (True, False), 'clf__min_samples_leaf': (1,10,50,100)}"
   ]
  },
  {
   "cell_type": "code",
   "execution_count": 67,
   "metadata": {
    "collapsed": true
   },
   "outputs": [
    {
     "data": {
      "text/plain": [
       "GridSearchCV(cv=10, error_score='raise',\n",
       "       estimator=Pipeline(memory=None,\n",
       "     steps=[('vect', CountVectorizer(analyzer='word', binary=False, decode_error='strict',\n",
       "        dtype=<class 'numpy.int64'>, encoding='utf-8', input='content',\n",
       "        lowercase=True, max_df=1.0, max_features=None, min_df=1,\n",
       "        ngram_range=(1, 1), preprocessor=None, stop_words=None,\n",
       "        strip...n_jobs=1,\n",
       "            oob_score=False, random_state=None, verbose=0,\n",
       "            warm_start=False))]),\n",
       "       fit_params=None, iid=True, n_jobs=1,\n",
       "       param_grid={'vect__ngram_range': [(1, 1), (1, 2)], 'tfidf__use_idf': (True, False), 'clf__min_samples_leaf': (1, 10, 50, 100)},\n",
       "       pre_dispatch='2*n_jobs', refit=True, return_train_score=False,\n",
       "       scoring='accuracy', verbose=0)"
      ]
     },
     "execution_count": 67,
     "metadata": {},
     "output_type": "execute_result"
    }
   ],
   "source": [
    "grid = GridSearchCV(text_clf_RandomForest, param_grid3, cv=10, scoring='accuracy', return_train_score=False)\n",
    "grid.fit(X, Y)"
   ]
  },
  {
   "cell_type": "code",
   "execution_count": 68,
   "metadata": {
    "collapsed": true
   },
   "outputs": [
    {
     "data": {
      "text/html": [
       "<div>\n",
       "<style scoped>\n",
       "    .dataframe tbody tr th:only-of-type {\n",
       "        vertical-align: middle;\n",
       "    }\n",
       "\n",
       "    .dataframe tbody tr th {\n",
       "        vertical-align: top;\n",
       "    }\n",
       "\n",
       "    .dataframe thead th {\n",
       "        text-align: right;\n",
       "    }\n",
       "</style>\n",
       "<table border=\"1\" class=\"dataframe\">\n",
       "  <thead>\n",
       "    <tr style=\"text-align: right;\">\n",
       "      <th></th>\n",
       "      <th>mean_test_score</th>\n",
       "      <th>std_test_score</th>\n",
       "      <th>params</th>\n",
       "    </tr>\n",
       "  </thead>\n",
       "  <tbody>\n",
       "    <tr>\n",
       "      <th>0</th>\n",
       "      <td>0.889908</td>\n",
       "      <td>0.056799</td>\n",
       "      <td>{'clf__min_samples_leaf': 1, 'tfidf__use_idf':...</td>\n",
       "    </tr>\n",
       "    <tr>\n",
       "      <th>1</th>\n",
       "      <td>0.857288</td>\n",
       "      <td>0.072382</td>\n",
       "      <td>{'clf__min_samples_leaf': 1, 'tfidf__use_idf':...</td>\n",
       "    </tr>\n",
       "    <tr>\n",
       "      <th>2</th>\n",
       "      <td>0.901121</td>\n",
       "      <td>0.062349</td>\n",
       "      <td>{'clf__min_samples_leaf': 1, 'tfidf__use_idf':...</td>\n",
       "    </tr>\n",
       "    <tr>\n",
       "      <th>3</th>\n",
       "      <td>0.841998</td>\n",
       "      <td>0.072774</td>\n",
       "      <td>{'clf__min_samples_leaf': 1, 'tfidf__use_idf':...</td>\n",
       "    </tr>\n",
       "    <tr>\n",
       "      <th>4</th>\n",
       "      <td>0.824669</td>\n",
       "      <td>0.116760</td>\n",
       "      <td>{'clf__min_samples_leaf': 10, 'tfidf__use_idf'...</td>\n",
       "    </tr>\n",
       "    <tr>\n",
       "      <th>5</th>\n",
       "      <td>0.797146</td>\n",
       "      <td>0.104150</td>\n",
       "      <td>{'clf__min_samples_leaf': 10, 'tfidf__use_idf'...</td>\n",
       "    </tr>\n",
       "    <tr>\n",
       "      <th>6</th>\n",
       "      <td>0.817533</td>\n",
       "      <td>0.121750</td>\n",
       "      <td>{'clf__min_samples_leaf': 10, 'tfidf__use_idf'...</td>\n",
       "    </tr>\n",
       "    <tr>\n",
       "      <th>7</th>\n",
       "      <td>0.791030</td>\n",
       "      <td>0.118187</td>\n",
       "      <td>{'clf__min_samples_leaf': 10, 'tfidf__use_idf'...</td>\n",
       "    </tr>\n",
       "    <tr>\n",
       "      <th>8</th>\n",
       "      <td>0.744139</td>\n",
       "      <td>0.105634</td>\n",
       "      <td>{'clf__min_samples_leaf': 50, 'tfidf__use_idf'...</td>\n",
       "    </tr>\n",
       "    <tr>\n",
       "      <th>9</th>\n",
       "      <td>0.747197</td>\n",
       "      <td>0.129935</td>\n",
       "      <td>{'clf__min_samples_leaf': 50, 'tfidf__use_idf'...</td>\n",
       "    </tr>\n",
       "    <tr>\n",
       "      <th>10</th>\n",
       "      <td>0.771662</td>\n",
       "      <td>0.131913</td>\n",
       "      <td>{'clf__min_samples_leaf': 50, 'tfidf__use_idf'...</td>\n",
       "    </tr>\n",
       "    <tr>\n",
       "      <th>11</th>\n",
       "      <td>0.691131</td>\n",
       "      <td>0.097693</td>\n",
       "      <td>{'clf__min_samples_leaf': 50, 'tfidf__use_idf'...</td>\n",
       "    </tr>\n",
       "    <tr>\n",
       "      <th>12</th>\n",
       "      <td>0.675841</td>\n",
       "      <td>0.104657</td>\n",
       "      <td>{'clf__min_samples_leaf': 100, 'tfidf__use_idf...</td>\n",
       "    </tr>\n",
       "    <tr>\n",
       "      <th>13</th>\n",
       "      <td>0.701325</td>\n",
       "      <td>0.112578</td>\n",
       "      <td>{'clf__min_samples_leaf': 100, 'tfidf__use_idf...</td>\n",
       "    </tr>\n",
       "    <tr>\n",
       "      <th>14</th>\n",
       "      <td>0.689093</td>\n",
       "      <td>0.115059</td>\n",
       "      <td>{'clf__min_samples_leaf': 100, 'tfidf__use_idf...</td>\n",
       "    </tr>\n",
       "    <tr>\n",
       "      <th>15</th>\n",
       "      <td>0.617737</td>\n",
       "      <td>0.105327</td>\n",
       "      <td>{'clf__min_samples_leaf': 100, 'tfidf__use_idf...</td>\n",
       "    </tr>\n",
       "  </tbody>\n",
       "</table>\n",
       "</div>"
      ],
      "text/plain": [
       "    mean_test_score  std_test_score  \\\n",
       "0          0.889908        0.056799   \n",
       "1          0.857288        0.072382   \n",
       "2          0.901121        0.062349   \n",
       "3          0.841998        0.072774   \n",
       "4          0.824669        0.116760   \n",
       "5          0.797146        0.104150   \n",
       "6          0.817533        0.121750   \n",
       "7          0.791030        0.118187   \n",
       "8          0.744139        0.105634   \n",
       "9          0.747197        0.129935   \n",
       "10         0.771662        0.131913   \n",
       "11         0.691131        0.097693   \n",
       "12         0.675841        0.104657   \n",
       "13         0.701325        0.112578   \n",
       "14         0.689093        0.115059   \n",
       "15         0.617737        0.105327   \n",
       "\n",
       "                                               params  \n",
       "0   {'clf__min_samples_leaf': 1, 'tfidf__use_idf':...  \n",
       "1   {'clf__min_samples_leaf': 1, 'tfidf__use_idf':...  \n",
       "2   {'clf__min_samples_leaf': 1, 'tfidf__use_idf':...  \n",
       "3   {'clf__min_samples_leaf': 1, 'tfidf__use_idf':...  \n",
       "4   {'clf__min_samples_leaf': 10, 'tfidf__use_idf'...  \n",
       "5   {'clf__min_samples_leaf': 10, 'tfidf__use_idf'...  \n",
       "6   {'clf__min_samples_leaf': 10, 'tfidf__use_idf'...  \n",
       "7   {'clf__min_samples_leaf': 10, 'tfidf__use_idf'...  \n",
       "8   {'clf__min_samples_leaf': 50, 'tfidf__use_idf'...  \n",
       "9   {'clf__min_samples_leaf': 50, 'tfidf__use_idf'...  \n",
       "10  {'clf__min_samples_leaf': 50, 'tfidf__use_idf'...  \n",
       "11  {'clf__min_samples_leaf': 50, 'tfidf__use_idf'...  \n",
       "12  {'clf__min_samples_leaf': 100, 'tfidf__use_idf...  \n",
       "13  {'clf__min_samples_leaf': 100, 'tfidf__use_idf...  \n",
       "14  {'clf__min_samples_leaf': 100, 'tfidf__use_idf...  \n",
       "15  {'clf__min_samples_leaf': 100, 'tfidf__use_idf...  "
      ]
     },
     "execution_count": 68,
     "metadata": {},
     "output_type": "execute_result"
    }
   ],
   "source": [
    "pd.DataFrame(grid.cv_results_)[['mean_test_score', 'std_test_score', 'params']]"
   ]
  },
  {
   "cell_type": "code",
   "execution_count": 69,
   "metadata": {},
   "outputs": [
    {
     "name": "stdout",
     "output_type": "stream",
     "text": [
      "0.9011213047910296\n",
      "{'clf__min_samples_leaf': 1, 'tfidf__use_idf': False, 'vect__ngram_range': (1, 1)}\n"
     ]
    }
   ],
   "source": [
    "# examine the best model\n",
    "print(grid.best_score_)\n",
    "print(grid.best_params_)"
   ]
  },
  {
   "cell_type": "code",
   "execution_count": 82,
   "metadata": {},
   "outputs": [],
   "source": [
    "text_clf_RandomForest = Pipeline([('vect', CountVectorizer()), ('tfidf', TfidfTransformer()), ('clf',  RandomForestClassifier(n_estimators=200,oob_score=True,random_state=100,n_jobs=-1,max_features=None,min_samples_leaf=50))])"
   ]
  },
  {
   "cell_type": "code",
   "execution_count": 83,
   "metadata": {},
   "outputs": [],
   "source": [
    "scores5 = cross_val_score(text_clf_RandomForest, X, Y, cv=10, scoring='accuracy')"
   ]
  },
  {
   "cell_type": "code",
   "execution_count": 84,
   "metadata": {},
   "outputs": [
    {
     "data": {
      "text/plain": [
       "0.9979381443298969"
      ]
     },
     "execution_count": 84,
     "metadata": {},
     "output_type": "execute_result"
    }
   ],
   "source": [
    "scores5.mean()"
   ]
  },
  {
   "cell_type": "code",
   "execution_count": null,
   "metadata": {},
   "outputs": [],
   "source": []
  }
 ],
 "metadata": {
  "kernelspec": {
   "display_name": "Python 3",
   "language": "python",
   "name": "python3"
  },
  "language_info": {
   "codemirror_mode": {
    "name": "ipython",
    "version": 3
   },
   "file_extension": ".py",
   "mimetype": "text/x-python",
   "name": "python",
   "nbconvert_exporter": "python",
   "pygments_lexer": "ipython3",
   "version": "3.6.4"
  }
 },
 "nbformat": 4,
 "nbformat_minor": 2
}
